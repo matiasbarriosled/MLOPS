{
 "cells": [
  {
   "cell_type": "code",
   "execution_count": 1,
   "metadata": {},
   "outputs": [],
   "source": [
    "import pandas as pd\n",
    "import ast\n",
    "import warnings\n",
    "warnings.filterwarnings(\"ignore\")\n",
    "df_movies = pd.read_parquet(\"../etl/dataset/movies_dataset.parquet\")"
   ]
  },
  {
   "cell_type": "markdown",
   "metadata": {},
   "source": [
    "- Aca vuelvo a desanidar los datos del df para poder hacer un analisis de cada una de las columnas con mayor detalle, por que anteriormente habia hecho un etl de peliculas sin embargo, ese etl estaba mas centrado en responder a las primeras 4 consignas del proyecto y me enfoque mas en quitar y quitar columnas para hacerme el trabajo mas facil"
   ]
  },
  {
   "cell_type": "code",
   "execution_count": 2,
   "metadata": {},
   "outputs": [],
   "source": [
    "\n",
    "#convierto a listas las filas que estaban como strings asi puedo desanidarlas despues recorriendo cada uno de sus elementos\n",
    "df_movies['genres'] = df_movies['genres'].apply(lambda x: ast.literal_eval(x) if isinstance(x,str) else None)\n",
    "df_movies['belongs_to_collection'] = df_movies['belongs_to_collection'].apply(lambda x: ast.literal_eval(x) if isinstance(x, str) else None)\n",
    "df_movies['production_companies'] = df_movies['production_companies'].apply(lambda x: ast.literal_eval(x) if isinstance(x,str) else None)\n",
    "df_movies['production_countries'] = df_movies['production_countries'].apply(lambda x: ast.literal_eval(x) if isinstance(x,str) else None)\n",
    "df_movies['spoken_languages'] = df_movies['spoken_languages'].apply(lambda x: ast.literal_eval(x) if isinstance(x,str) else None)\n",
    "# desanido la columna de generos, de todas creo que name_genres es una de las mas valiosas para analizar\n",
    "df_movies['id_genres'] = df_movies['genres'].apply(lambda x: [d['id'] for d in x])\n",
    "df_movies['name_genres'] = df_movies['genres'].apply(lambda x: [d['name'] for d in x])\n",
    "# esta es la columna que para mi tiene menos relevancia, no hay datos que puedan ser de utilidad a analizar, ni siquiera name_collection\n",
    "df_movies['id_collection'] = df_movies['belongs_to_collection'].apply(lambda x: x['id'] if isinstance(x,dict) else None)\n",
    "#################### si llegara name_collection, no quiero que quede mas texto que un 0, ya que podria usar para identificar facilmente a una saga\n",
    "df_movies['name_collection'] = df_movies['belongs_to_collection'].apply(lambda x: x['name'] if isinstance(x,dict) else \"0\")\n",
    "df_movies['poster_collection'] = df_movies['belongs_to_collection'].apply(lambda x: x['poster_path'] if isinstance(x,dict) else None)\n",
    "df_movies['backdrop_collection'] = df_movies['belongs_to_collection'].apply(lambda x: x['backdrop_path'] if isinstance(x,dict) else None)\n",
    "# En terminos de generos usualmente las compania suelen ser muy variadas, por lo que no veo importancia en estas columnas\n",
    "df_movies['id_prod_companies'] = df_movies['production_companies'].apply(lambda x: [d['id'] for d in x] if isinstance(x, list) else [])\n",
    "df_movies['name_prod_companies'] = df_movies['production_companies'].apply(lambda x: [d['name'] for d in x] if isinstance(x, list) else [])\n",
    "# Lo mismo que ocurre en companies, todos los paises comparten generos variados por lo que no lo veo relevante\n",
    "df_movies['iso_prod_countries'] = df_movies['production_countries'].apply(lambda x: [d['iso_3166_1'] for d in x] if isinstance(x, list) else [])\n",
    "df_movies['name_prod_countries'] = df_movies['production_countries'].apply(lambda x: [d['name'] for d in x] if isinstance(x, list) else [])\n",
    "# sin uso o caracteristicas que definan a una pelicula\n",
    "df_movies['iso_spoken_languages'] = df_movies['spoken_languages'].apply(lambda x: [d['iso_639_1'] for d in x] if isinstance(x, list) else [])\n",
    "df_movies['name_spoken_languages'] = df_movies['spoken_languages'].apply(lambda x: [d['name'] for d in x] if isinstance(x, list) else [])"
   ]
  },
  {
   "cell_type": "code",
   "execution_count": 3,
   "metadata": {},
   "outputs": [],
   "source": [
    "# ya que estan las columnas desanidadas, las voy a eliminar\n",
    "df_movies = df_movies.drop(['belongs_to_collection','genres','production_countries','spoken_languages','production_companies'], axis=1)\n",
    "df_movies['id'] = pd.to_numeric(df_movies['id'], errors='coerce')\n",
    "df_movies['id_collection'] = pd.to_numeric(df_movies['id_collection'], errors='coerce')\n",
    "df_movies['budget'] = pd.to_numeric(df_movies['budget'], errors='coerce')\n"
   ]
  },
  {
   "cell_type": "code",
   "execution_count": 4,
   "metadata": {},
   "outputs": [
    {
     "name": "stdout",
     "output_type": "stream",
     "text": [
      "<class 'pandas.core.frame.DataFrame'>\n",
      "RangeIndex: 45466 entries, 0 to 45465\n",
      "Data columns (total 31 columns):\n",
      " #   Column                 Non-Null Count  Dtype  \n",
      "---  ------                 --------------  -----  \n",
      " 0   adult                  45466 non-null  object \n",
      " 1   budget                 45463 non-null  float64\n",
      " 2   homepage               7782 non-null   object \n",
      " 3   id                     45463 non-null  float64\n",
      " 4   imdb_id                45449 non-null  object \n",
      " 5   original_language      45455 non-null  object \n",
      " 6   original_title         45466 non-null  object \n",
      " 7   overview               44512 non-null  object \n",
      " 8   popularity             45460 non-null  float64\n",
      " 9   poster_path            45080 non-null  object \n",
      " 10  release_date           45379 non-null  object \n",
      " 11  revenue                45460 non-null  float64\n",
      " 12  runtime                45203 non-null  float64\n",
      " 13  status                 45379 non-null  object \n",
      " 14  tagline                20412 non-null  object \n",
      " 15  title                  45460 non-null  object \n",
      " 16  video                  45460 non-null  object \n",
      " 17  vote_average           45460 non-null  float64\n",
      " 18  vote_count             45460 non-null  float64\n",
      " 19  id_genres              45466 non-null  object \n",
      " 20  name_genres            45466 non-null  object \n",
      " 21  id_collection          4491 non-null   float64\n",
      " 22  name_collection        45466 non-null  object \n",
      " 23  poster_collection      3948 non-null   object \n",
      " 24  backdrop_collection    3263 non-null   object \n",
      " 25  id_prod_companies      45466 non-null  object \n",
      " 26  name_prod_companies    45466 non-null  object \n",
      " 27  iso_prod_countries     45466 non-null  object \n",
      " 28  name_prod_countries    45466 non-null  object \n",
      " 29  iso_spoken_languages   45466 non-null  object \n",
      " 30  name_spoken_languages  45466 non-null  object \n",
      "dtypes: float64(8), object(23)\n",
      "memory usage: 10.8+ MB\n"
     ]
    }
   ],
   "source": [
    "df_movies.info()"
   ]
  },
  {
   "cell_type": "code",
   "execution_count": 5,
   "metadata": {},
   "outputs": [],
   "source": [
    "# Aca lo que voy a hacer es rellenar las filas que aparecen vacias en title con las filas que si contengan datos en la columna original_title\n",
    "df_movies[\"title\"].fillna(df_movies[\"original_title\"], inplace=True)"
   ]
  },
  {
   "cell_type": "code",
   "execution_count": 6,
   "metadata": {},
   "outputs": [],
   "source": [
    "# Filtro los valores de Adult, ya que esta columna sera eliminada y me quedo con todas las peliculas que no tengan clasificacion 'X'\n",
    "df_movies = df_movies[df_movies['adult']=='False']\n",
    "# Elimino las columnas que mencionan en la consigna del proyecto\n",
    "df_movies = df_movies.drop(['adult','homepage','imdb_id','original_title','poster_path','video'],axis=1)"
   ]
  },
  {
   "cell_type": "markdown",
   "metadata": {},
   "source": [
    "Mi idea es tener claros los datos, por lo que quiero agruparlos por sus tipos  \n",
    "1 - numericos :  \n",
    "a.discretos  \n",
    "b.continuos  \n",
    "  \n",
    "\n",
    "2 - categoricos :  \n",
    "a.nominales  \n",
    "b.ordinales  \n",
    "c.binarios\n",
    "\n",
    "- El unico ID que vamos a utilizar es el de pelicula para referenciarlo a la base de datos\n",
    "- Los ISO tampoco son necesarios, voy a eliminarlos para evitar mucho tiempo de graficacion\n",
    "- Datos como paginas web o 'paths', tambien seran eliminados\n",
    "- Overview si bien no es un dato categorico lo voy a dejar para analizarlo con una nube de palabras y ver si encuentro algo de valor en el"
   ]
  },
  {
   "cell_type": "code",
   "execution_count": 7,
   "metadata": {},
   "outputs": [],
   "source": [
    "df_movies = df_movies.drop(['id_collection','id_genres','id_prod_companies','iso_spoken_languages','iso_prod_countries','tagline','poster_collection','backdrop_collection', 'name_spoken_languages','name_prod_companies','name_prod_countries', 'original_language'],axis=1)"
   ]
  },
  {
   "cell_type": "markdown",
   "metadata": {},
   "source": [
    "- Voy a pasar las fechas de lanzamiento en años, quiero ver mas adelante si me sirve este tipo de dato cuando realice el EDA"
   ]
  },
  {
   "cell_type": "markdown",
   "metadata": {},
   "source": [
    "###\n",
    "###"
   ]
  },
  {
   "cell_type": "markdown",
   "metadata": {},
   "source": [
    "*lo siguiente que voy a hacer es en caso de utilizar name_collection, que no tome los str 'collection', por que este se repite en varias peliculas que si pertenecen a una saga o secuela de peliculas*"
   ]
  },
  {
   "cell_type": "code",
   "execution_count": 8,
   "metadata": {},
   "outputs": [
    {
     "data": {
      "text/plain": [
       "name_collection\n",
       "0                                40963\n",
       "The Bowery Boys                     29\n",
       "Totò Collection                     27\n",
       "James Bond Collection               26\n",
       "Zatôichi: The Blind Swordsman       26\n",
       "                                 ...  \n",
       "Сказки Чуковского                    1\n",
       "Adventures of a ...                  1\n",
       "The Cutlass Collection               1\n",
       "Aniskin Collection                   1\n",
       "Зимняя Вишня (трилогия)              1\n",
       "Name: count, Length: 1696, dtype: int64"
      ]
     },
     "execution_count": 8,
     "metadata": {},
     "output_type": "execute_result"
    }
   ],
   "source": [
    "df_movies['name_collection'].value_counts()"
   ]
  },
  {
   "cell_type": "code",
   "execution_count": 9,
   "metadata": {},
   "outputs": [],
   "source": [
    "df_movies['name_collection'] = df_movies['name_collection'].str.replace('Collection', '')"
   ]
  },
  {
   "cell_type": "code",
   "execution_count": 10,
   "metadata": {},
   "outputs": [
    {
     "data": {
      "text/plain": [
       "name_collection\n",
       "0                                40963\n",
       "The Bowery Boys                     29\n",
       "Totò                                27\n",
       "James Bond                          26\n",
       "Zatôichi: The Blind Swordsman       26\n",
       "                                 ...  \n",
       "Сказки Чуковского                    1\n",
       "Adventures of a ...                  1\n",
       "The Cutlass                          1\n",
       "Aniskin                              1\n",
       "Зимняя Вишня (трилогия)              1\n",
       "Name: count, Length: 1696, dtype: int64"
      ]
     },
     "execution_count": 10,
     "metadata": {},
     "output_type": "execute_result"
    }
   ],
   "source": [
    "df_movies['name_collection'].value_counts()"
   ]
  },
  {
   "cell_type": "code",
   "execution_count": 11,
   "metadata": {},
   "outputs": [],
   "source": [
    "df_movies['release_date'] = pd.to_datetime(df_movies['release_date'])\n",
    "df_movies['release_year'] = df_movies['release_date'].dt.year\n",
    "df_movies = df_movies.drop('release_date',axis=1)\n",
    "# Le doy un poco de orden a la aparicion de las columnas\n",
    "df_organizado = df_movies[['id','title','name_genres','budget','revenue','runtime','popularity','name_collection','vote_count','vote_average','status','overview','release_year']]"
   ]
  },
  {
   "cell_type": "code",
   "execution_count": 12,
   "metadata": {},
   "outputs": [
    {
     "name": "stdout",
     "output_type": "stream",
     "text": [
      "<class 'pandas.core.frame.DataFrame'>\n",
      "Index: 45454 entries, 0 to 45465\n",
      "Data columns (total 13 columns):\n",
      " #   Column           Non-Null Count  Dtype  \n",
      "---  ------           --------------  -----  \n",
      " 0   id               45454 non-null  float64\n",
      " 1   title            45454 non-null  object \n",
      " 2   name_genres      45454 non-null  object \n",
      " 3   budget           45454 non-null  float64\n",
      " 4   revenue          45451 non-null  float64\n",
      " 5   runtime          45194 non-null  float64\n",
      " 6   popularity       45451 non-null  float64\n",
      " 7   name_collection  45454 non-null  object \n",
      " 8   vote_count       45451 non-null  float64\n",
      " 9   vote_average     45451 non-null  float64\n",
      " 10  status           45370 non-null  object \n",
      " 11  overview         44500 non-null  object \n",
      " 12  release_year     45368 non-null  float64\n",
      "dtypes: float64(8), object(5)\n",
      "memory usage: 4.9+ MB\n"
     ]
    }
   ],
   "source": [
    "df_organizado.info()"
   ]
  },
  {
   "cell_type": "code",
   "execution_count": 13,
   "metadata": {},
   "outputs": [],
   "source": [
    "df_organizado.to_parquet(\"dataset/movies.parquet\")"
   ]
  }
 ],
 "metadata": {
  "kernelspec": {
   "display_name": "env",
   "language": "python",
   "name": "python3"
  },
  "language_info": {
   "codemirror_mode": {
    "name": "ipython",
    "version": 3
   },
   "file_extension": ".py",
   "mimetype": "text/x-python",
   "name": "python",
   "nbconvert_exporter": "python",
   "pygments_lexer": "ipython3",
   "version": "3.10.12"
  }
 },
 "nbformat": 4,
 "nbformat_minor": 2
}
